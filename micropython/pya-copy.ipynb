{
 "cells": [
  {
   "cell_type": "code",
   "execution_count": 20,
   "id": "ef12ac32",
   "metadata": {},
   "outputs": [
    {
     "name": "stdout",
     "output_type": "stream",
     "text": [
      "Usage: ampy [OPTIONS] COMMAND [ARGS]...\n",
      "\n",
      "  ampy - Adafruit MicroPython Tool\n",
      "\n",
      "  Ampy is a tool to control MicroPython boards over a serial connection.\n",
      "  Using ampy you can manipulate files on the board's internal filesystem and\n",
      "  even run scripts.\n",
      "\n",
      "Options:\n",
      "  -p, --port PORT    Name of serial port for connected board.  Can optionally\n",
      "                     specify with AMPY_PORT environment variable.  [required]\n",
      "  -b, --baud BAUD    Baud rate for the serial connection (default 115200).\n",
      "                     Can optionally specify with AMPY_BAUD environment\n",
      "                     variable.\n",
      "  -d, --delay DELAY  Delay in seconds before entering RAW MODE (default 0).\n",
      "                     Can optionally specify with AMPY_DELAY environment\n",
      "                     variable.\n",
      "  --version          Show the version and exit.\n",
      "  --help             Show this message and exit.\n",
      "\n",
      "Commands:\n",
      "  get    Retrieve a file from the board.\n",
      "  ls     List contents of a directory on the board.\n",
      "  mkdir  Create a directory on the board.\n",
      "  put    Put a file or folder and its contents on the board.\n",
      "  reset  Perform soft reset/reboot of the board.\n",
      "  rm     Remove a file from the board.\n",
      "  rmdir  Forcefully remove a folder and all its children from the board.\n",
      "  run    Run a script and print its output.\n"
     ]
    }
   ],
   "source": [
    "!ampy --help"
   ]
  },
  {
   "cell_type": "code",
   "execution_count": null,
   "id": "43cfde94",
   "metadata": {},
   "outputs": [],
   "source": []
  },
  {
   "cell_type": "code",
   "execution_count": 24,
   "id": "7c11db73",
   "metadata": {},
   "outputs": [
    {
     "name": "stdout",
     "output_type": "stream",
     "text": [
      "finsh\n"
     ]
    }
   ],
   "source": [
    "# dir from Microcontroller\n",
    "serial_port='com4'\n",
    "_ilib_path='/.ilib'\n",
    "!ampy --port $serial_port ls $_ilib_path\n",
    "print('finsh')"
   ]
  },
  {
   "cell_type": "code",
   "execution_count": 10,
   "id": "fd5c389a",
   "metadata": {},
   "outputs": [
    {
     "name": "stdout",
     "output_type": "stream",
     "text": [
      " Volume in drive J is Kabel-Box\n",
      " Volume Serial Number is 0000-0000\n",
      "\n",
      " Directory of J:\\SSD_Jupyter\\jupyter\\github\\micropython\\esp32\n",
      "\n",
      "05/01/2022  06:48 PM             2,768 dir.pya\n",
      "05/01/2022  06:48 PM             1,632 help.pya\n",
      "05/01/2022  06:48 PM             3,488 ipconfig.pya\n",
      "05/01/2022  06:48 PM             2,800 l.pya\n",
      "05/01/2022  06:48 PM               496 mem.pya\n",
      "05/01/2022  06:48 PM             5,712 nslookup.pya\n",
      "05/01/2022  06:49 PM               384 para.pya\n",
      "05/01/2022  06:49 PM             3,952 ping.pya\n",
      "05/01/2022  06:49 PM             7,808 systeminfo.pya\n",
      "05/01/2022  06:49 PM             4,112 systeminfo_small.pya\n",
      "05/01/2022  06:49 PM             1,072 type.pya\n",
      "              11 File(s)         34,224 bytes\n",
      "               0 Dir(s)  529,147,973,632 bytes free\n"
     ]
    }
   ],
   "source": [
    "!dir .\\esp32\\*.pya"
   ]
  },
  {
   "cell_type": "code",
   "execution_count": 32,
   "id": "bd9fe410",
   "metadata": {},
   "outputs": [
    {
     "name": "stdout",
     "output_type": "stream",
     "text": [
      ".\\esp32\\dir.pya\n",
      "/.ilib/dir.pya\n",
      ".\\esp32\\help.pya\n",
      "/.ilib/help.pya\n",
      ".\\esp32\\ipconfig.pya\n",
      "/.ilib/ipconfig.pya\n",
      ".\\esp32\\l.pya\n",
      "/.ilib/l.pya\n",
      ".\\esp32\\mem.pya\n",
      "/.ilib/mem.pya\n",
      ".\\esp32\\nslookup.pya\n",
      "/.ilib/nslookup.pya\n",
      ".\\esp32\\para.pya\n",
      "/.ilib/para.pya\n",
      ".\\esp32\\ping.pya\n",
      "/.ilib/ping.pya\n",
      ".\\esp32\\systeminfo.pya\n",
      "/.ilib/systeminfo.pya\n",
      ".\\esp32\\systeminfo_small.pya\n",
      "/.ilib/systeminfo_small.pya\n",
      ".\\esp32\\type.pya\n",
      "/.ilib/type.pya\n",
      "finsh\n"
     ]
    }
   ],
   "source": [
    "source_path='.\\\\esp32\\\\'\n",
    "destination_path='/.ilib'\n",
    "import os\n",
    "files = os.listdir(source_path)\n",
    "for file in files:\n",
    "    #print(file)\n",
    "    if file[len(file)-4:] == '.pya':\n",
    "        #print(file)\n",
    "        source=source_path+file\n",
    "        #print(source)\n",
    "        destination=destination_path+'/'+file\n",
    "        print(destination)\n",
    "        !ampy --port $serial_port put $source $destination\n",
    "print('finsh')"
   ]
  },
  {
   "cell_type": "code",
   "execution_count": 37,
   "id": "7a2fbcdb",
   "metadata": {},
   "outputs": [
    {
     "name": "stdout",
     "output_type": "stream",
     "text": [
      "/.ilib/dir.pyafinsh\n",
      "\n",
      "/.ilib/help.pya\n",
      "/.ilib/ipconfig.pya\n",
      "/.ilib/l.pya\n",
      "/.ilib/mem.pya\n",
      "/.ilib/nslookup.pya\n",
      "/.ilib/para.pya\n",
      "/.ilib/ping.pya\n",
      "/.ilib/systeminfo.pya\n",
      "/.ilib/systeminfo_small.pya\n",
      "/.ilib/type.pya\n"
     ]
    }
   ],
   "source": [
    "# dir from Microcontroller\n",
    "serial_port='com4'\n",
    "_ilib_path='/.ilib'\n",
    "!ampy --port $serial_port ls $_ilib_path\n",
    "print('finsh')"
   ]
  }
 ],
 "metadata": {
  "kernelspec": {
   "display_name": "Python 3 (ipykernel)",
   "language": "python",
   "name": "python3"
  },
  "language_info": {
   "codemirror_mode": {
    "name": "ipython",
    "version": 3
   },
   "file_extension": ".py",
   "mimetype": "text/x-python",
   "name": "python",
   "nbconvert_exporter": "python",
   "pygments_lexer": "ipython3",
   "version": "3.9.7"
  }
 },
 "nbformat": 4,
 "nbformat_minor": 5
}
